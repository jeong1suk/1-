{
  "nbformat": 4,
  "nbformat_minor": 0,
  "metadata": {
    "colab": {
      "provenance": []
    },
    "kernelspec": {
      "name": "python3",
      "display_name": "Python 3"
    },
    "language_info": {
      "name": "python"
    }
  },
  "cells": [
    {
      "cell_type": "code",
      "execution_count": 3,
      "metadata": {
        "id": "DYWhCWY3SQb-"
      },
      "outputs": [],
      "source": [
        "sur_fare=[71,8,53,11,30,17,27,16,13,8]\n",
        "sur_age=[38,26,35,27,14,4,58,55,34,15]"
      ]
    },
    {
      "cell_type": "code",
      "source": [
        "import matplotlib.pyplot as plt #matplotlib 의 pyplot 함수를 plt로 줄여서 사용\n",
        "\n",
        "plt.scatter(sur_fare, sur_age) \n",
        "plt.xlabel('fare')\n",
        "plt.ylabel('age')\n",
        "plt.show"
      ],
      "metadata": {
        "colab": {
          "base_uri": "https://localhost:8080/",
          "height": 300
        },
        "id": "86tYaZKCZo3O",
        "outputId": "55039d39-ce20-443a-c815-081b9270931b"
      },
      "execution_count": 4,
      "outputs": [
        {
          "output_type": "execute_result",
          "data": {
            "text/plain": [
              "<function matplotlib.pyplot.show(close=None, block=None)>"
            ]
          },
          "metadata": {},
          "execution_count": 4
        },
        {
          "output_type": "display_data",
          "data": {
            "text/plain": [
              "<Figure size 432x288 with 1 Axes>"
            ],
            "image/png": "[encoded data removed]"
          },
          "metadata": {
            "needs_background": "light"
          }
        }
      ]
    },
    {
      "cell_type": "markdown",
      "source": [],
      "metadata": {
        "id": "guOLSbvKZuvU"
      }
    },
    {
      "cell_type": "code",
      "source": [
        "d_fare=[7,8,52,21,8,31,8,29,18,26]\n",
        "d_age=[22,35,54,2,20,39,14,2,31,35]\n",
        "plt.scatter(sur_fare, sur_age)\n",
        "plt.scatter(d_fare, d_age) \n",
        "\n",
        "plt.xlabel('fare')\n",
        "plt.ylabel('age')\n",
        "plt.show"
      ],
      "metadata": {
        "colab": {
          "base_uri": "https://localhost:8080/",
          "height": 300
        },
        "id": "zEsTW07-aOak",
        "outputId": "feea93d7-0791-4768-e237-cfe5d08efbd1"
      },
      "execution_count": 5,
      "outputs": [
        {
          "output_type": "execute_result",
          "data": {
            "text/plain": [
              "<function matplotlib.pyplot.show(close=None, block=None)>"
            ]
          },
          "metadata": {},
          "execution_count": 5
        },
        {
          "output_type": "display_data",
          "data": {
            "text/plain": [
              "<Figure size 432x288 with 1 Axes>"
            ],
            "image/png": "[encoded data removed]"
          },
          "metadata": {
            "needs_background": "light"
          }
        }
      ]
    },
    {
      "cell_type": "code",
      "source": [
        "fare = sur_fare+d_fare\n",
        "age = sur_age+d_age\n",
        "data = [[l, w] for l, w in zip(fare, age)]"
      ],
      "metadata": {
        "id": "B2aTCLhicJgj"
      },
      "execution_count": 6,
      "outputs": []
    },
    {
      "cell_type": "code",
      "source": [
        "target = [1]*10 + [0]*10\n",
        "from sklearn.neighbors import KNeighborsClassifier\n",
        "kn = KNeighborsClassifier() # 객체 만들기"
      ],
      "metadata": {
        "id": "Uyp3MVsYcUDh"
      },
      "execution_count": 7,
      "outputs": []
    },
    {
      "cell_type": "code",
      "source": [
        "kn.fit(data, target)\n",
        "kn.score(data, target)"
      ],
      "metadata": {
        "colab": {
          "base_uri": "https://localhost:8080/"
        },
        "id": "y4jBHg3Sdb1K",
        "outputId": "d4a7bb28-19de-42e1-e36d-d379bdfd33b7"
      },
      "execution_count": 8,
      "outputs": [
        {
          "output_type": "execute_result",
          "data": {
            "text/plain": [
              "0.5"
            ]
          },
          "metadata": {},
          "execution_count": 8
        }
      ]
    },
    {
      "cell_type": "markdown",
      "source": [],
      "metadata": {
        "id": "T2PgsgOHcofM"
      }
    },
    {
      "cell_type": "code",
      "source": [
        "kn2 = KNeighborsClassifier(n_neighbors = 2)\n",
        "kn2.fit(data,target)\n",
        "kn2.score(data,target)"
      ],
      "metadata": {
        "colab": {
          "base_uri": "https://localhost:8080/"
        },
        "id": "aQcAQVEtcseC",
        "outputId": "10d40a48-75c2-4081-a264-bfa845f74a32"
      },
      "execution_count": 10,
      "outputs": [
        {
          "output_type": "execute_result",
          "data": {
            "text/plain": [
              "0.8"
            ]
          },
          "metadata": {},
          "execution_count": 10
        }
      ]
    },
    {
      "cell_type": "code",
      "source": [
        "kn2.predict([[10,23]])"
      ],
      "metadata": {
        "colab": {
          "base_uri": "https://localhost:8080/"
        },
        "id": "uOfiYQWod5tG",
        "outputId": "40831c98-a085-49a6-adab-247a5dbef7ba"
      },
      "execution_count": 11,
      "outputs": [
        {
          "output_type": "execute_result",
          "data": {
            "text/plain": [
              "array([0])"
            ]
          },
          "metadata": {},
          "execution_count": 11
        }
      ]
    }
  ]
}